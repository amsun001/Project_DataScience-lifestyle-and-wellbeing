{
 "cells": [
  {
   "cell_type": "markdown",
   "id": "150856ac5c895200",
   "metadata": {},
   "source": [
    "# **Which technology usage patterns have the strongest impact on mental health?**\n",
    "\n"
   ]
  },
  {
   "cell_type": "markdown",
   "id": "6427edfd4ea3899c",
   "metadata": {},
   "source": [
    "## **1. Data Acquisition** "
   ]
  },
  {
   "cell_type": "code",
   "execution_count": 4,
   "id": "18d510677e23bbc0",
   "metadata": {
    "ExecuteTime": {
     "end_time": "2025-05-03T21:59:50.204999Z",
     "start_time": "2025-05-03T21:59:50.194653Z"
    }
   },
   "outputs": [],
   "source": [
    "import pandas as pd\n",
    "import seaborn as sns\n",
    "import matplotlib.pyplot as plt\n",
    "import numpy as np"
   ]
  },
  {
   "cell_type": "code",
   "execution_count": 5,
   "id": "cf3c48973e809cc2",
   "metadata": {
    "ExecuteTime": {
     "end_time": "2025-05-03T21:59:54.849938Z",
     "start_time": "2025-05-03T21:59:54.796338Z"
    }
   },
   "outputs": [
    {
     "data": {
      "text/html": [
       "<div>\n",
       "<style scoped>\n",
       "    .dataframe tbody tr th:only-of-type {\n",
       "        vertical-align: middle;\n",
       "    }\n",
       "\n",
       "    .dataframe tbody tr th {\n",
       "        vertical-align: top;\n",
       "    }\n",
       "\n",
       "    .dataframe thead th {\n",
       "        text-align: right;\n",
       "    }\n",
       "</style>\n",
       "<table border=\"1\" class=\"dataframe\">\n",
       "  <thead>\n",
       "    <tr style=\"text-align: right;\">\n",
       "      <th></th>\n",
       "      <th>Timestamp</th>\n",
       "      <th>FRUITS_VEGGIES</th>\n",
       "      <th>DAILY_STRESS</th>\n",
       "      <th>PLACES_VISITED</th>\n",
       "      <th>CORE_CIRCLE</th>\n",
       "      <th>SUPPORTING_OTHERS</th>\n",
       "      <th>SOCIAL_NETWORK</th>\n",
       "      <th>ACHIEVEMENT</th>\n",
       "      <th>DONATION</th>\n",
       "      <th>BMI_RANGE</th>\n",
       "      <th>...</th>\n",
       "      <th>SLEEP_HOURS</th>\n",
       "      <th>LOST_VACATION</th>\n",
       "      <th>DAILY_SHOUTING</th>\n",
       "      <th>SUFFICIENT_INCOME</th>\n",
       "      <th>PERSONAL_AWARDS</th>\n",
       "      <th>TIME_FOR_PASSION</th>\n",
       "      <th>WEEKLY_MEDITATION</th>\n",
       "      <th>AGE</th>\n",
       "      <th>GENDER</th>\n",
       "      <th>WORK_LIFE_BALANCE_SCORE</th>\n",
       "    </tr>\n",
       "  </thead>\n",
       "  <tbody>\n",
       "    <tr>\n",
       "      <th>0</th>\n",
       "      <td>7/7/15</td>\n",
       "      <td>3</td>\n",
       "      <td>2</td>\n",
       "      <td>2</td>\n",
       "      <td>5</td>\n",
       "      <td>0</td>\n",
       "      <td>5</td>\n",
       "      <td>2</td>\n",
       "      <td>0</td>\n",
       "      <td>1</td>\n",
       "      <td>...</td>\n",
       "      <td>7</td>\n",
       "      <td>5</td>\n",
       "      <td>5</td>\n",
       "      <td>1</td>\n",
       "      <td>4</td>\n",
       "      <td>0</td>\n",
       "      <td>5</td>\n",
       "      <td>36 to 50</td>\n",
       "      <td>Female</td>\n",
       "      <td>609.5</td>\n",
       "    </tr>\n",
       "    <tr>\n",
       "      <th>1</th>\n",
       "      <td>7/7/15</td>\n",
       "      <td>2</td>\n",
       "      <td>3</td>\n",
       "      <td>4</td>\n",
       "      <td>3</td>\n",
       "      <td>8</td>\n",
       "      <td>10</td>\n",
       "      <td>5</td>\n",
       "      <td>2</td>\n",
       "      <td>2</td>\n",
       "      <td>...</td>\n",
       "      <td>8</td>\n",
       "      <td>2</td>\n",
       "      <td>2</td>\n",
       "      <td>2</td>\n",
       "      <td>3</td>\n",
       "      <td>2</td>\n",
       "      <td>6</td>\n",
       "      <td>36 to 50</td>\n",
       "      <td>Female</td>\n",
       "      <td>655.6</td>\n",
       "    </tr>\n",
       "    <tr>\n",
       "      <th>2</th>\n",
       "      <td>7/7/15</td>\n",
       "      <td>2</td>\n",
       "      <td>3</td>\n",
       "      <td>3</td>\n",
       "      <td>4</td>\n",
       "      <td>4</td>\n",
       "      <td>10</td>\n",
       "      <td>3</td>\n",
       "      <td>2</td>\n",
       "      <td>2</td>\n",
       "      <td>...</td>\n",
       "      <td>8</td>\n",
       "      <td>10</td>\n",
       "      <td>2</td>\n",
       "      <td>2</td>\n",
       "      <td>4</td>\n",
       "      <td>8</td>\n",
       "      <td>3</td>\n",
       "      <td>36 to 50</td>\n",
       "      <td>Female</td>\n",
       "      <td>631.6</td>\n",
       "    </tr>\n",
       "    <tr>\n",
       "      <th>3</th>\n",
       "      <td>7/7/15</td>\n",
       "      <td>3</td>\n",
       "      <td>3</td>\n",
       "      <td>10</td>\n",
       "      <td>3</td>\n",
       "      <td>10</td>\n",
       "      <td>7</td>\n",
       "      <td>2</td>\n",
       "      <td>5</td>\n",
       "      <td>2</td>\n",
       "      <td>...</td>\n",
       "      <td>5</td>\n",
       "      <td>7</td>\n",
       "      <td>5</td>\n",
       "      <td>1</td>\n",
       "      <td>5</td>\n",
       "      <td>2</td>\n",
       "      <td>0</td>\n",
       "      <td>51 or more</td>\n",
       "      <td>Female</td>\n",
       "      <td>622.7</td>\n",
       "    </tr>\n",
       "    <tr>\n",
       "      <th>4</th>\n",
       "      <td>7/7/15</td>\n",
       "      <td>5</td>\n",
       "      <td>1</td>\n",
       "      <td>3</td>\n",
       "      <td>3</td>\n",
       "      <td>10</td>\n",
       "      <td>4</td>\n",
       "      <td>2</td>\n",
       "      <td>4</td>\n",
       "      <td>2</td>\n",
       "      <td>...</td>\n",
       "      <td>7</td>\n",
       "      <td>0</td>\n",
       "      <td>0</td>\n",
       "      <td>2</td>\n",
       "      <td>8</td>\n",
       "      <td>1</td>\n",
       "      <td>5</td>\n",
       "      <td>51 or more</td>\n",
       "      <td>Female</td>\n",
       "      <td>663.9</td>\n",
       "    </tr>\n",
       "  </tbody>\n",
       "</table>\n",
       "<p>5 rows × 24 columns</p>\n",
       "</div>"
      ],
      "text/plain": [
       "  Timestamp  FRUITS_VEGGIES DAILY_STRESS  PLACES_VISITED  CORE_CIRCLE  \\\n",
       "0    7/7/15               3            2               2            5   \n",
       "1    7/7/15               2            3               4            3   \n",
       "2    7/7/15               2            3               3            4   \n",
       "3    7/7/15               3            3              10            3   \n",
       "4    7/7/15               5            1               3            3   \n",
       "\n",
       "   SUPPORTING_OTHERS  SOCIAL_NETWORK  ACHIEVEMENT  DONATION  BMI_RANGE  ...  \\\n",
       "0                  0               5            2         0          1  ...   \n",
       "1                  8              10            5         2          2  ...   \n",
       "2                  4              10            3         2          2  ...   \n",
       "3                 10               7            2         5          2  ...   \n",
       "4                 10               4            2         4          2  ...   \n",
       "\n",
       "   SLEEP_HOURS  LOST_VACATION  DAILY_SHOUTING  SUFFICIENT_INCOME  \\\n",
       "0            7              5               5                  1   \n",
       "1            8              2               2                  2   \n",
       "2            8             10               2                  2   \n",
       "3            5              7               5                  1   \n",
       "4            7              0               0                  2   \n",
       "\n",
       "   PERSONAL_AWARDS  TIME_FOR_PASSION  WEEKLY_MEDITATION         AGE  GENDER  \\\n",
       "0                4                 0                  5    36 to 50  Female   \n",
       "1                3                 2                  6    36 to 50  Female   \n",
       "2                4                 8                  3    36 to 50  Female   \n",
       "3                5                 2                  0  51 or more  Female   \n",
       "4                8                 1                  5  51 or more  Female   \n",
       "\n",
       "   WORK_LIFE_BALANCE_SCORE  \n",
       "0                    609.5  \n",
       "1                    655.6  \n",
       "2                    631.6  \n",
       "3                    622.7  \n",
       "4                    663.9  \n",
       "\n",
       "[5 rows x 24 columns]"
      ]
     },
     "execution_count": 5,
     "metadata": {},
     "output_type": "execute_result"
    }
   ],
   "source": [
    "csv_file = \"../data/Wellbeing_and_lifestyle_data_Kaggle.csv\"\n",
    "csv_data = pd.read_csv(csv_file)\n",
    "\n",
    "# Display the first few rows of the dataframe to understand its structure\n",
    "csv_data.head()\n"
   ]
  },
  {
   "cell_type": "markdown",
   "id": "61ca640dec1dbb69",
   "metadata": {},
   "source": [
    "## **Data Preparation/Data Cleaning** \n"
   ]
  },
  {
   "cell_type": "markdown",
   "id": "c1858ca9",
   "metadata": {},
   "source": [
    "### **Filtering the dataset**"
   ]
  },
  {
   "cell_type": "code",
   "execution_count": 9,
   "id": "2d83bbfa",
   "metadata": {},
   "outputs": [],
   "source": [
    "csv_data = pd.read_csv(csv_file)  # Replace with your actual file name\n",
    "\n",
    "# List of columns to keep\n",
    "columns_to_keep = [\n",
    "    \"Timestamp\",\n",
    "    \"FRUITS_VEGGIES\",\n",
    "    \"DAILY_STRESS\",\n",
    "    \"PLACES_VISITED\",\n",
    "    \"CORE_CIRCLE\",\n",
    "    \"BMI_RANGE\",\n",
    "    \"DAILY_STEPS\",\n",
    "    \"SLEEP_HOURS\",\n",
    "    \"SUFFICIENT_INCOME\",\n",
    "    \"TIME_FOR_PASSION\",\n",
    "    \"WEEKLY_MEDITATION\",\n",
    "    \"AGE\",\n",
    "    \"GENDER\",\n",
    "    \"WORK_LIFE_BALANCE_SCORE\"\n",
    "]\n",
    "\n",
    "# Keep only those columns\n",
    "filtered_csv_data = csv_data[columns_to_keep]\n",
    "\n",
    "# Save to new CSV\n",
    "filtered_csv_data.to_csv(\"../data/Filtered_Wellbeing_and_lifestyle_data_Kaggle.csv.csv\", index=False)\n",
    "csv_data=filtered_csv_data\n"
   ]
  },
  {
   "cell_type": "markdown",
   "id": "1a17597114220376",
   "metadata": {},
   "source": [
    "### **Missing Values:** "
   ]
  },
  {
   "cell_type": "code",
   "execution_count": 10,
   "id": "12512f20100d1a2d",
   "metadata": {},
   "outputs": [
    {
     "name": "stdout",
     "output_type": "stream",
     "text": [
      "\n",
      "Missing values check: \n",
      "\n",
      "no missing values found\n"
     ]
    }
   ],
   "source": [
    "print(\"\\nMissing values check: \\n\")\n",
    "missing_val = csv_data.isnull().sum()\n",
    "if missing_val.sum()== 0:\n",
    "    print(\"no missing values found\")\n",
    "else:\n",
    "    print(\"name of the column and the number of values missing:\")\n",
    "    print(missing_val[missing_val>0])"
   ]
  },
  {
   "cell_type": "markdown",
   "id": "ec22433eca4c9953",
   "metadata": {},
   "source": [
    "### **Different Format:**\n",
    " "
   ]
  },
  {
   "cell_type": "code",
   "execution_count": 11,
   "id": "1d4f656baeb6c526",
   "metadata": {},
   "outputs": [
    {
     "name": "stdout",
     "output_type": "stream",
     "text": [
      "\n",
      "Data formatting check per column: \n",
      "no issues with formatting\n"
     ]
    }
   ],
   "source": [
    "\n",
    "print(\"\\nData formatting check per column: \")\n",
    "issue=False\n",
    "for column in csv_data.columns:\n",
    "        if csv_data[column].apply(type).nunique()>1:\n",
    "            print(f\"Mixed data types in column '{column}'\")\n",
    "            issue = True\n",
    "            \n",
    "if not issue:\n",
    "        print(\"no issues with formatting\")"
   ]
  },
  {
   "cell_type": "markdown",
   "id": "6a565934b74d53f9",
   "metadata": {},
   "source": [
    "### **Errors: Case sensitive**\n",
    "**Note:** There are no case sensitive errors in the whole dataset.\n"
   ]
  },
  {
   "cell_type": "markdown",
   "id": "182a7981b3cd8dc8",
   "metadata": {},
   "source": [
    "#### **Gender**\n"
   ]
  },
  {
   "cell_type": "code",
   "execution_count": 19,
   "id": "178b204c763f825c",
   "metadata": {
    "ExecuteTime": {
     "end_time": "2025-05-03T22:00:01.013451Z",
     "start_time": "2025-05-03T22:00:01.000587Z"
    }
   },
   "outputs": [
    {
     "name": "stdout",
     "output_type": "stream",
     "text": [
      "['Female' 'Male']\n",
      "Case-sensitive invalid entries:\n",
      "Series([], Name: GENDER, dtype: object)\n",
      "FRUITS_VEGGIES               int64\n",
      "DAILY_STRESS                object\n",
      "PLACES_VISITED               int64\n",
      "CORE_CIRCLE                  int64\n",
      "DAILY_STEPS                  int64\n",
      "SLEEP_HOURS                  int64\n",
      "SUFFICIENT_INCOME            int64\n",
      "TIME_FOR_PASSION             int64\n",
      "WEEKLY_MEDITATION            int64\n",
      "WORK_LIFE_BALANCE_SCORE    float64\n",
      "dtype: object\n"
     ]
    }
   ],
   "source": [
    "print(csv_data[\"GENDER\"].unique())\n",
    "\n",
    "valid_values = [\"Male\", \"Female\"]\n",
    "invalid_entries = csv_data[~csv_data[\"GENDER\"].isin(valid_values)]\n",
    "print(\"Case-sensitive invalid entries:\")\n",
    "print(invalid_entries[\"GENDER\"].head())\n",
    "\n",
    "print(filtered_csv_data[columns].dtypes)\n"
   ]
  },
  {
   "cell_type": "markdown",
   "id": "a1bb91ed1988ba41",
   "metadata": {},
   "source": [
    "### **Outliers:**\n",
    "**Note:** The IQR factor is set as a factor of 1.5"
   ]
  },
  {
   "cell_type": "code",
   "execution_count": null,
   "id": "f3d344b2e4a68daa",
   "metadata": {
    "ExecuteTime": {
     "end_time": "2025-05-03T22:00:42.123176Z",
     "start_time": "2025-05-03T22:00:41.891843Z"
    }
   },
   "outputs": [
    {
     "name": "stdout",
     "output_type": "stream",
     "text": [
      "\n",
      "Outliers in 'FRUITS_VEGGIES':\n",
      "Empty DataFrame\n",
      "Columns: [FRUITS_VEGGIES]\n",
      "Index: []\n",
      "\n",
      "Outliers in 'PLACES_VISITED':\n",
      "Empty DataFrame\n",
      "Columns: [PLACES_VISITED]\n",
      "Index: []\n",
      "\n",
      "Outliers in 'CORE_CIRCLE':\n",
      "Empty DataFrame\n",
      "Columns: [CORE_CIRCLE]\n",
      "Index: []\n",
      "\n",
      "Outliers in 'DAILY_STEPS':\n",
      "Empty DataFrame\n",
      "Columns: [DAILY_STEPS]\n",
      "Index: []\n",
      "\n",
      "Outliers in 'SLEEP_HOURS':\n",
      "       SLEEP_HOURS\n",
      "738              2\n",
      "1904             1\n",
      "2572             2\n",
      "2968             1\n",
      "2986             1\n",
      "3007             1\n",
      "3023             1\n",
      "3376             1\n",
      "3436             1\n",
      "3437             1\n",
      "3611             2\n",
      "3785             1\n",
      "4380             2\n",
      "4763             1\n",
      "5712             2\n",
      "5867             1\n",
      "6299             1\n",
      "6751             2\n",
      "6795             2\n",
      "8394             2\n",
      "8924             1\n",
      "8967             1\n",
      "9318             2\n",
      "9338             1\n",
      "9415             2\n",
      "9637             2\n",
      "9929             2\n",
      "9930             2\n",
      "9944             2\n",
      "9987             1\n",
      "10083            2\n",
      "10975            2\n",
      "12955            1\n",
      "13081            2\n",
      "13610            2\n",
      "14255            1\n",
      "14478            2\n",
      "15334            2\n",
      "15380            2\n",
      "\n",
      "Outliers in 'SUFFICIENT_INCOME':\n",
      "Empty DataFrame\n",
      "Columns: [SUFFICIENT_INCOME]\n",
      "Index: []\n",
      "\n",
      "Outliers in 'TIME_FOR_PASSION':\n",
      "Empty DataFrame\n",
      "Columns: [TIME_FOR_PASSION]\n",
      "Index: []\n",
      "\n",
      "Outliers in 'WEEKLY_MEDITATION':\n",
      "Empty DataFrame\n",
      "Columns: [WEEKLY_MEDITATION]\n",
      "Index: []\n",
      "\n",
      "Outliers in 'WORK_LIFE_BALANCE_SCORE':\n",
      "       WORK_LIFE_BALANCE_SCORE\n",
      "72                       528.8\n",
      "79                       538.8\n",
      "82                       538.8\n",
      "420                      799.0\n",
      "872                      533.3\n",
      "...                        ...\n",
      "14856                    504.2\n",
      "15071                    518.6\n",
      "15239                    804.3\n",
      "15242                    814.5\n",
      "15758                    541.8\n",
      "\n",
      "[71 rows x 1 columns]\n"
     ]
    },
    {
     "data": {
      "image/png": "[encoded data removed]",
      "text/plain": [
       "<Figure size 640x480 with 1 Axes>"
      ]
     },
     "metadata": {},
     "output_type": "display_data"
    }
   ],
   "source": [
    "\n",
    "# Columns for outlier detection (only numeric)\n",
    "columns = [\n",
    "    \"FRUITS_VEGGIES\",\n",
    "    \"PLACES_VISITED\",\n",
    "    \"CORE_CIRCLE\",\n",
    "    \"DAILY_STEPS\",\n",
    "    \"SLEEP_HOURS\",\n",
    "    \"SUFFICIENT_INCOME\",\n",
    "    \"TIME_FOR_PASSION\",\n",
    "    \"WEEKLY_MEDITATION\",\n",
    "    \"WORK_LIFE_BALANCE_SCORE\"\n",
    "]\n",
    "\n",
    "# Make a copy to clean outliers if needed\n",
    "clean_data = csv_data.copy()\n",
    "\n",
    "for col in columns:\n",
    "    Q1 = csv_data[col].quantile(0.25)\n",
    "    Q3 = csv_data[col].quantile(0.75)\n",
    "    IQR = Q3 - Q1\n",
    "\n",
    "    lower_bound = Q1 - 1.5 * IQR\n",
    "    upper_bound = Q3 + 1.5 * IQR\n",
    "\n",
    "    outliers = csv_data[(filtered_csv_data[col] < lower_bound) | (csv_data[col] > upper_bound)]\n",
    "\n",
    "    print(f\"\\nOutliers in '{col}':\")\n",
    "    print(outliers[[col]])\n",
    "\n",
    "    # Optionally remove outliers\n",
    "    # clean_data = clean_data[(clean_data[col] >= lower_bound) & (clean_data[col] <= upper_bound)]\n",
    "\n",
    "# Boxplots for visualizing all columns at once\n",
    "sns.boxplot(data=csv_data[columns])\n",
    "plt.title(\"Boxplots of Selected Numeric Columns\")\n",
    "plt.xticks(rotation=45)\n",
    "plt.tight_layout()\n",
    "plt.show()\n"
   ]
  }
 ],
 "metadata": {
  "kernelspec": {
   "display_name": "Python 3",
   "language": "python",
   "name": "python3"
  },
  "language_info": {
   "codemirror_mode": {
    "name": "ipython",
    "version": 3
   },
   "file_extension": ".py",
   "mimetype": "text/x-python",
   "name": "python",
   "nbconvert_exporter": "python",
   "pygments_lexer": "ipython3",
   "version": "3.13.3"
  }
 },
 "nbformat": 4,
 "nbformat_minor": 5
}
